{
 "cells": [
  {
   "cell_type": "markdown",
   "id": "34a35b00",
   "metadata": {},
   "source": [
    "\n",
    "1.3 Задание Выведите на печать и определите тип переменной."
   ]
  },
  {
   "cell_type": "code",
   "execution_count": 7,
   "id": "e3ff8b92",
   "metadata": {},
   "outputs": [
    {
     "name": "stdout",
     "output_type": "stream",
     "text": [
      "True | <class 'bool'> \n",
      " {8, 1, 3, 7} | <class 'set'> \n",
      " {2, 4, 5, 'apple', 10} | <class 'set'> \n",
      " set() | <class 'set'> \n",
      " ('Антонова Антонина', 21, 'м') | <class 'tuple'> \n",
      " type | <class 'str'> \n",
      " [1, 'title', 2, 'content'] | <class 'list'> \n",
      "\n"
     ]
    }
   ],
   "source": [
    "x = 5 >= 2\n",
    "A = {1, 3, 7, 8}\n",
    "B = {2, 4, 5, 10, 'apple'}\n",
    "C = A & B\n",
    "df = 'Карабанов Семён', 21, 'м'\n",
    "z = 'type'\n",
    "D = [1, 'title', 2, 'content']\n",
    "print(x, '|', type(x), '\\n',\n",
    "      A, '|', type(A), '\\n',\n",
    "      B, '|', type(B), '\\n',\n",
    "      C, '|', type(C), '\\n',\n",
    "      df, '|', type(df), '\\n',\n",
    "      z, '|', type(z), '\\n',\n",
    "      D, '|', type(D), '\\n')"
   ]
  },
  {
   "cell_type": "markdown",
   "id": "3872d8ed",
   "metadata": {},
   "source": [
    "2.3 Напишите код. Задается х, напечатать какому из интервалов принадлежит: (-infinity, -5), [-5, 5] или от (5, +infinity)"
   ]
  },
  {
   "cell_type": "code",
   "execution_count": 1,
   "id": "fc7fc5cb",
   "metadata": {},
   "outputs": [
    {
     "name": "stdout",
     "output_type": "stream",
     "text": [
      " x принадлежит интервалу (-infinity, -5)\n"
     ]
    }
   ],
   "source": [
    "x = -6\n",
    "if x < -5:\n",
    "    print(' x принадлежит интервалу (-infinity, -5)')\n",
    "elif x > 5:\n",
    "    print(' x принадлежит интервалу (5, +infinity)')\n",
    "else:\n",
    "    print('x принадлежит интервалу [-5, 5]')"
   ]
  },
  {
   "cell_type": "markdown",
   "id": "c891819a",
   "metadata": {},
   "source": [
    "ПРИМЕР 3.2.1"
   ]
  },
  {
   "cell_type": "markdown",
   "id": "e84f4b0c",
   "metadata": {},
   "source": [
    "Вывести все числа от 1 до 10 с шагом 3."
   ]
  },
  {
   "cell_type": "code",
   "execution_count": 6,
   "id": "7c21e3f0",
   "metadata": {},
   "outputs": [
    {
     "name": "stdout",
     "output_type": "stream",
     "text": [
      "1\n",
      "4\n",
      "7\n",
      "10\n"
     ]
    }
   ],
   "source": [
    "x = 1\n",
    "while x <= 10:\n",
    "    print(x)\n",
    "    x += 3"
   ]
  },
  {
   "cell_type": "markdown",
   "id": "7e3cf863",
   "metadata": {},
   "source": [
    "3.3.1 Задание\n",
    "Выведите числа из примера на while (3.2.1) в обратном порядке."
   ]
  },
  {
   "cell_type": "code",
   "execution_count": 7,
   "id": "4e4371ae",
   "metadata": {},
   "outputs": [
    {
     "name": "stdout",
     "output_type": "stream",
     "text": [
      "числа из примера на while (3.2.1) в обратном порядке: 10 7 4 1 "
     ]
    }
   ],
   "source": [
    "x = 10\n",
    "print(\"числа из примера на while (3.2.1) в обратном порядке:\",end=' ')\n",
    "while x >= 1:\n",
    "    print(x,end=' ')\n",
    "    x -= 3"
   ]
  },
  {
   "cell_type": "markdown",
   "id": "c3392a66",
   "metadata": {},
   "source": [
    "3.3.2 Задание\n",
    "При решении задач машинного обучения часто в качестве объектов исследования выступает человек. Создайте список значимых характеристик (признаков), идентифицирующих человека. Выведитесписок на экран."
   ]
  },
  {
   "cell_type": "code",
   "execution_count": 10,
   "id": "5d7c94fb",
   "metadata": {},
   "outputs": [
    {
     "name": "stdout",
     "output_type": "stream",
     "text": [
      "список значимых характеристик (признаков), идентифицирующих человека:\n",
      "возраст\n",
      "пол\n",
      "рост\n",
      "вес\n",
      "цвет волос\n",
      "цвет глаз\n"
     ]
    }
   ],
   "source": [
    "human_list = ['возраст', 'пол', 'рост', 'вес', 'цвет волос', 'цвет глаз']\n",
    "print(\"список значимых характеристик (признаков), идентифицирующих человека:\")\n",
    "for i in human_list:\n",
    "    print(i)"
   ]
  },
  {
   "cell_type": "markdown",
   "id": "ceab53fa",
   "metadata": {},
   "source": [
    "3.3.3 Задание \n",
    "Создать список чисел от 2 до 15 с шагом 1"
   ]
  },
  {
   "cell_type": "code",
   "execution_count": 12,
   "id": "7e6122c8",
   "metadata": {},
   "outputs": [
    {
     "name": "stdout",
     "output_type": "stream",
     "text": [
      "список чисел от 2 до 15 с шагом 1:\n",
      "[2, 3, 4, 5, 6, 7, 8, 9, 10, 11, 12, 13, 14, 15]\n"
     ]
    }
   ],
   "source": [
    "num_list = list(range(2, 16))\n",
    "print(\"список чисел от 2 до 15 с шагом 1:\")\n",
    "print(num_list)"
   ]
  },
  {
   "cell_type": "markdown",
   "id": "b7d1526c",
   "metadata": {},
   "source": [
    "3.2.1 ПРИМЕР \n",
    "Вывести на экран числа от 1 до 105 с шагом 25, используя функцию range()"
   ]
  },
  {
   "cell_type": "code",
   "execution_count": 12,
   "id": "16854e39",
   "metadata": {},
   "outputs": [
    {
     "name": "stdout",
     "output_type": "stream",
     "text": [
      "5\n",
      "30\n",
      "55\n",
      "80\n",
      "105\n"
     ]
    }
   ],
   "source": [
    "for i in range(5, 106, 25):\n",
    "    print(i)"
   ]
  },
  {
   "cell_type": "markdown",
   "id": "e7ba2cac",
   "metadata": {},
   "source": [
    "3.3.4 Задание\n",
    "Выведите числа из примера на for c функцией range() (3.2.4) в обратном порядке."
   ]
  },
  {
   "cell_type": "code",
   "execution_count": 14,
   "id": "0dde1646",
   "metadata": {},
   "outputs": [
    {
     "name": "stdout",
     "output_type": "stream",
     "text": [
      "числа из примера на for c функцией range() (3.2.4) в обратном порядке:\n",
      "105\n",
      "80\n",
      "55\n",
      "30\n",
      "5\n"
     ]
    }
   ],
   "source": [
    "print(\"числа из примера на for c функцией range() (3.2.4) в обратном порядке:\")\n",
    "for i in range(105, 0, -25):\n",
    "    print(i)"
   ]
  },
  {
   "cell_type": "markdown",
   "id": "33881f89",
   "metadata": {},
   "source": [
    "3.3.5 Задание \n",
    "Срез. Напишите код, который все элементы массива x с четными индексами переставит в обратном порядке. Т.е. если x = [0, 1, 2, 3, 4, 5, 6, 7, 8, 9], то код должен сформировать [8, 1, 6, 3, 4, 5, 2, 7, 0, 9].\n"
   ]
  },
  {
   "cell_type": "code",
   "execution_count": 16,
   "id": "8e94a6b0",
   "metadata": {},
   "outputs": [
    {
     "name": "stdout",
     "output_type": "stream",
     "text": [
      "элементы массива x с четными индексами в обратном порядке:\n",
      "[8, 1, 6, 3, 4, 5, 2, 7, 0, 9]\n"
     ]
    }
   ],
   "source": [
    "x = [0, 1, 2, 3, 4,5, 6, 7, 8, 9]\n",
    "x[::2] = x[-2::-2]\n",
    "print(\"элементы массива x с четными индексами в обратном порядке:\")\n",
    "print(x)"
   ]
  },
  {
   "cell_type": "markdown",
   "id": "25e17e3a",
   "metadata": {},
   "source": [
    "4.3.1 Задание\n",
    "Задайте массив случайных значений из интервала(0; 1). Рассчитайте средние и медианные значения для массива, сравните результаты, какие выводы можно сделать о значениях?\n",
    "Постройте точечную диаграмму рассения полученного ряда.\n"
   ]
  },
  {
   "cell_type": "code",
   "execution_count": 21,
   "id": "2b52fdaf",
   "metadata": {},
   "outputs": [
    {
     "name": "stdout",
     "output_type": "stream",
     "text": [
      "среднее зачение: 0.62\n",
      "медианное значение: 0.7\n"
     ]
    },
    {
     "data": {
      "image/png": "[encoded data removed]",
      "text/plain": [
       "<Figure size 480x480 with 1 Axes>"
      ]
     },
     "metadata": {},
     "output_type": "display_data"
    }
   ],
   "source": [
    "import numpy as np\n",
    "from matplotlib import pyplot as plt\n",
    "\n",
    "data = np.random.random(10)\n",
    "\n",
    "average = np.average(data)\n",
    "median = np.median(data)\n",
    "print('среднее зачение:', round(average,2))\n",
    "print('медианное значение:', round(median,2))\n",
    "\n",
    "figure = plt.figure(figsize=(6, 6), dpi=80)\n",
    "plt.grid()\n",
    "plt.scatter(data, data)\n",
    "plt.title(\"Точечная диаграмма рассения полученного ряда\")\n",
    "plt.show()"
   ]
  },
  {
   "cell_type": "markdown",
   "id": "cbb07811",
   "metadata": {},
   "source": [
    "4.3.2 Задание\n",
    "Дана функция ... Создать массив из 10 значений функции (𝑥, например, изменяется от 1 до 10). Выделить срез первой половины массива и построить графики для основного массива – линейный и для среза – точечный\n"
   ]
  },
  {
   "cell_type": "code",
   "execution_count": 25,
   "id": "ad6ac028",
   "metadata": {},
   "outputs": [
    {
     "data": {
      "image/png": "[encoded data removed]",
      "text/plain": [
       "<Figure size 640x480 with 1 Axes>"
      ]
     },
     "metadata": {},
     "output_type": "display_data"
    },
    {
     "data": {
      "image/png": "[encoded data removed]",
      "text/plain": [
       "<Figure size 640x480 with 1 Axes>"
      ]
     },
     "metadata": {},
     "output_type": "display_data"
    }
   ],
   "source": [
    "import matplotlib.pyplot as plt\n",
    "import numpy as np\n",
    "from math import *\n",
    "\n",
    "arr = np.arange(1,11,1)\n",
    "arr_y = np.array([],'float64')\n",
    "for x in arr:\n",
    "  f = (sqrt(1+exp(sqrt(x)) + cos(x*x)))    /    (abs(1 - sin(x)**3)     ) + log(abs((2*x)))\n",
    "  arr_y = np.append(arr_y,f)\n",
    "srez = arr[:5:1]\n",
    "srez_y = arr_y[:5:1]\n",
    "\n",
    "plt.plot(arr,arr_y)\n",
    "plt.title(\"Линейный график\")\n",
    "plt.xlabel(\"Элементы массива\")\n",
    "plt.show()\n",
    "\n",
    "\n",
    "plt.grid()\n",
    "plt.scatter(srez, srez_y)\n",
    "plt.title(\"Точечный график\")\n",
    "plt.xlabel(\"Элементы массива\")\n",
    "plt.show()\n"
   ]
  },
  {
   "cell_type": "markdown",
   "id": "32251021",
   "metadata": {},
   "source": [
    "4.3.3 Задание\n",
    "Дана функция  .... Построить график на интервале (0,10) с шагом 1 с заливкой площади и найти эту площадь под ним. Для вычисления площади воспользуйте функции trapz(), вычисляющей интеграл по правилу трапеции.\n",
    "Для ее корректной работы необходимо подключить следующие\n",
    "библиотеки:\n",
    "from scipy.integrate import simps\n",
    "from numpy import trapz\n"
   ]
  },
  {
   "cell_type": "code",
   "execution_count": 31,
   "id": "14a0b23a",
   "metadata": {},
   "outputs": [
    {
     "data": {
      "image/png": "[encoded data removed]",
      "text/plain": [
       "<Figure size 640x480 with 1 Axes>"
      ]
     },
     "metadata": {},
     "output_type": "display_data"
    },
    {
     "name": "stdout",
     "output_type": "stream",
     "text": [
      "Площадь под графиком:  6.26\n"
     ]
    }
   ],
   "source": [
    "import numpy as np\n",
    "from numpy import  trapz\n",
    "import matplotlib.pyplot as plt\n",
    "x = np.arange(0,10,1)\n",
    "y = np.abs(np.cos(x*np.exp(np.cos(x)+np.log(x+1))))\n",
    "plt.grid()\n",
    "plt.title(\"График на интервале (0,10) c заливкой площади\")\n",
    "plt.plot(x,y,c = \"r\")\n",
    "plt.xlabel(\"Значения x\")\n",
    "plt.ylabel(\"Значения y\")\n",
    "plt.fill_between(x,y)\n",
    "area = round(trapz(y),2)\n",
    "plt.show()\n",
    "print(\"Площадь под графиком: \", area)"
   ]
  },
  {
   "cell_type": "markdown",
   "id": "ce54ba29",
   "metadata": {},
   "source": [
    "4.3.4 Задание\n",
    "Откройте статистические данные по стоимости акций Apple,\n",
    "Microsoft, Google за 12 месяцев 2021 г. Постройте 3 графика на\n",
    "плоскости и оцените их динамику. Подумайте, как можно улучшить\n",
    "читаемость результатов.\n",
    "Для начальных данных допустимо использовать следующий ресурс:\n",
    "https://finance.yahoo.com\n"
   ]
  },
  {
   "cell_type": "code",
   "execution_count": null,
   "id": "a64e0745",
   "metadata": {},
   "outputs": [],
   "source": [
    "import yfinance as yf\n",
    "\n",
    "import matplotlib.pyplot as plt\n",
    "\n",
    "import pandas as pd\n",
    "tickers_list = ['AAPL', 'MSFT', 'GOOG']\n",
    "data = pd.DataFrame(columns=tickers_list)\n",
    "for ticker in tickers_list:\n",
    "    data[ticker] = yf.download(ticker,'2021-01-01','2021-12-01')['Adj Close']\n",
    "data.head()\n",
    "((data.pct_change()+1).cumprod()).plot(figsize=(10, 7))\n",
    "plt.legend()\n",
    "plt.title(\"Цена закрытия\", fontsize=16)\n",
    "plt.ylabel('Цена в $', fontsize=14)\n",
    "plt.xlabel('Месяц', fontsize=14)\n",
    "plt.grid(which=\"major\", color='k', linestyle='-.', linewidth=0.5)\n",
    "plt.show()\n"
   ]
  },
  {
   "cell_type": "markdown",
   "id": "75840e87",
   "metadata": {},
   "source": [
    "4.3.5 Задание\n",
    "Создайте простейший калькулятор, включающий основные действия для двух переменных ′ + ′, ′ − ′, ′ ∙ ′, ′ ÷ ′, а также вычисление следующих функций ..."
   ]
  },
  {
   "cell_type": "code",
   "execution_count": 34,
   "id": "ba8139cf",
   "metadata": {},
   "outputs": [
    {
     "name": "stdout",
     "output_type": "stream",
     "text": [
      "1 - сложение 2 - вычитание 3 - умножение 4 - деление. \n",
      " 5 - Вычисление e^x+y; 6 - sin(x+y) ; 7 - cos(x+y); 8 - х^y \n",
      "Введите номер арифметической операции:\n",
      "5\n",
      "Введите первое число:\n",
      "1\n",
      "Введите второе число:\n",
      "2\n",
      "Результат = 20.085536923187664\n"
     ]
    }
   ],
   "source": [
    "import math\n",
    "print('1 - сложение', '2 - вычитание', '3 - умножение', '4 - деление.', '\\n', '5 - Вычисление e^x+y;', '6 - sin(x+y) ;', '7 - cos(x+y);', '8 - х^y ')\n",
    "print('Введите номер арифметической операции:')\n",
    "k = int(input())\n",
    "if k < 0 or k > 8:\n",
    "    print('Неправильный ввод')\n",
    "else:\n",
    "    print('Введите первое число:')\n",
    "    x = int(input())\n",
    "    print('Введите второе число:')\n",
    "    y = int(input())\n",
    "    if k == 1:\n",
    "        print('Результат =', x + y)\n",
    "    if k == 2:\n",
    "        print('Результат =', x - y)\n",
    "    if k == 3:\n",
    "        print('Результат =', x * y)\n",
    "    if k == 4:\n",
    "        print('Результат =', x / y)\n",
    "    if k == 5:\n",
    "        print('Результат =', math.e ** (x + y))\n",
    "    if k == 6:\n",
    "        print('Результат =', math.sin(x + y))\n",
    "    if k == 7:\n",
    "        print('Результат =', math.cos(x + y))\n",
    "    if k == 8:\n",
    "        print('Результат =', x ** y)"
   ]
  }
 ],
 "metadata": {
  "kernelspec": {
   "display_name": "Python 3 (ipykernel)",
   "language": "python",
   "name": "python3"
  },
  "language_info": {
   "codemirror_mode": {
    "name": "ipython",
    "version": 3
   },
   "file_extension": ".py",
   "mimetype": "text/x-python",
   "name": "python",
   "nbconvert_exporter": "python",
   "pygments_lexer": "ipython3",
   "version": "3.9.13"
  }
 },
 "nbformat": 4,
 "nbformat_minor": 5
}
